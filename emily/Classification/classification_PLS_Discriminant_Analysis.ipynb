{
 "cells": [
  {
   "cell_type": "markdown",
   "id": "17ec0749",
   "metadata": {},
   "source": [
    "#### 1. Import Necessary Packages and Data"
   ]
  },
  {
   "cell_type": "code",
   "execution_count": 1,
   "id": "cd212f5c",
   "metadata": {
    "scrolled": true
   },
   "outputs": [
    {
     "data": {
      "text/html": [
       "<div>\n",
       "<style scoped>\n",
       "    .dataframe tbody tr th:only-of-type {\n",
       "        vertical-align: middle;\n",
       "    }\n",
       "\n",
       "    .dataframe tbody tr th {\n",
       "        vertical-align: top;\n",
       "    }\n",
       "\n",
       "    .dataframe thead th {\n",
       "        text-align: right;\n",
       "    }\n",
       "</style>\n",
       "<table border=\"1\" class=\"dataframe\">\n",
       "  <thead>\n",
       "    <tr style=\"text-align: right;\">\n",
       "      <th></th>\n",
       "      <th>LB</th>\n",
       "      <th>AC</th>\n",
       "      <th>FM</th>\n",
       "      <th>UC</th>\n",
       "      <th>ASTV</th>\n",
       "      <th>MSTV</th>\n",
       "      <th>ALTV</th>\n",
       "      <th>MLTV</th>\n",
       "      <th>DL</th>\n",
       "      <th>DS</th>\n",
       "      <th>DP</th>\n",
       "      <th>NSP</th>\n",
       "    </tr>\n",
       "  </thead>\n",
       "  <tbody>\n",
       "    <tr>\n",
       "      <th>370</th>\n",
       "      <td>138</td>\n",
       "      <td>0</td>\n",
       "      <td>1</td>\n",
       "      <td>0</td>\n",
       "      <td>68</td>\n",
       "      <td>0.3</td>\n",
       "      <td>21</td>\n",
       "      <td>7.2</td>\n",
       "      <td>0</td>\n",
       "      <td>0</td>\n",
       "      <td>0</td>\n",
       "      <td>2</td>\n",
       "    </tr>\n",
       "    <tr>\n",
       "      <th>1449</th>\n",
       "      <td>147</td>\n",
       "      <td>5</td>\n",
       "      <td>0</td>\n",
       "      <td>4</td>\n",
       "      <td>36</td>\n",
       "      <td>1.2</td>\n",
       "      <td>0</td>\n",
       "      <td>4.8</td>\n",
       "      <td>0</td>\n",
       "      <td>0</td>\n",
       "      <td>0</td>\n",
       "      <td>1</td>\n",
       "    </tr>\n",
       "    <tr>\n",
       "      <th>916</th>\n",
       "      <td>122</td>\n",
       "      <td>2</td>\n",
       "      <td>0</td>\n",
       "      <td>1</td>\n",
       "      <td>27</td>\n",
       "      <td>1.6</td>\n",
       "      <td>0</td>\n",
       "      <td>3.2</td>\n",
       "      <td>0</td>\n",
       "      <td>0</td>\n",
       "      <td>1</td>\n",
       "      <td>1</td>\n",
       "    </tr>\n",
       "    <tr>\n",
       "      <th>1494</th>\n",
       "      <td>132</td>\n",
       "      <td>6</td>\n",
       "      <td>0</td>\n",
       "      <td>9</td>\n",
       "      <td>33</td>\n",
       "      <td>1.2</td>\n",
       "      <td>0</td>\n",
       "      <td>14.0</td>\n",
       "      <td>0</td>\n",
       "      <td>0</td>\n",
       "      <td>0</td>\n",
       "      <td>1</td>\n",
       "    </tr>\n",
       "    <tr>\n",
       "      <th>1147</th>\n",
       "      <td>122</td>\n",
       "      <td>0</td>\n",
       "      <td>0</td>\n",
       "      <td>2</td>\n",
       "      <td>18</td>\n",
       "      <td>1.9</td>\n",
       "      <td>0</td>\n",
       "      <td>8.8</td>\n",
       "      <td>3</td>\n",
       "      <td>0</td>\n",
       "      <td>0</td>\n",
       "      <td>1</td>\n",
       "    </tr>\n",
       "  </tbody>\n",
       "</table>\n",
       "</div>"
      ],
      "text/plain": [
       "       LB  AC  FM  UC  ASTV  MSTV  ALTV  MLTV  DL  DS  DP  NSP\n",
       "370   138   0   1   0    68   0.3    21   7.2   0   0   0    2\n",
       "1449  147   5   0   4    36   1.2     0   4.8   0   0   0    1\n",
       "916   122   2   0   1    27   1.6     0   3.2   0   0   1    1\n",
       "1494  132   6   0   9    33   1.2     0  14.0   0   0   0    1\n",
       "1147  122   0   0   2    18   1.9     0   8.8   3   0   0    1"
      ]
     },
     "execution_count": 1,
     "metadata": {},
     "output_type": "execute_result"
    }
   ],
   "source": [
    "# GENERAL\n",
    "import pandas as pd                                    #Used to read data\n",
    "import numpy as np                                     #Used to compute Root Mean Square Error\n",
    "import matplotlib.pyplot as plt                        #Used to visualize data\n",
    "import seaborn as sns                                  #Used to visualize data\n",
    "from sklearn.model_selection import train_test_split   #Used to split the data into test and train sets \n",
    "from sklearn import metrics                            #Used to compute R^2, Mean Abs Error and Mean Square Error  \n",
    "from sklearn.metrics import ConfusionMatrixDisplay     #Used to visualize data\n",
    "\n",
    "# MODEL SPECIFIC\n",
    "from sklearn.cross_decomposition import PLSRegression   #Used to fit and predict a PLS-DA Model \n",
    "\n",
    "# DATA\n",
    "inputData = pd.read_excel(r'/Users/emilyknight/Documents/BMEN415 Final Project/CTG.xlsx').sample(frac = 1) #Import data\n",
    "\n",
    "inputData.head() #Print complete dataset to console"
   ]
  },
  {
   "cell_type": "markdown",
   "id": "4bee194e",
   "metadata": {},
   "source": [
    "#### 2. Select and Split Input and Output Vectors"
   ]
  },
  {
   "cell_type": "code",
   "execution_count": 2,
   "id": "f300f690",
   "metadata": {},
   "outputs": [],
   "source": [
    "# Select Input Vector, X, and Output Vector, y\n",
    "X = inputData.drop(columns=['NSP']) #Input vector is all data but the Fetal State Class Code\n",
    "y = inputData['NSP'] #Output data is the Fetal State Class Code\n",
    "\n",
    "X_train, X_test, y_train, y_test = train_test_split(X, y, test_size=0.2, random_state = 0) #Split vectors, 20% will be used for testing "
   ]
  },
  {
   "cell_type": "markdown",
   "id": "b4334d5a",
   "metadata": {},
   "source": [
    "#### 3. Instantiate and Fit Models"
   ]
  },
  {
   "cell_type": "code",
   "execution_count": 3,
   "id": "4001c5f2",
   "metadata": {},
   "outputs": [
    {
     "data": {
      "text/plain": [
       "PLSRegression(n_components=6, scale=False)"
      ]
     },
     "execution_count": 3,
     "metadata": {},
     "output_type": "execute_result"
    }
   ],
   "source": [
    "pls_da = PLSRegression(n_components=6, scale=False) #PLS Model with 2 Components\n",
    "\n",
    "pls_da.fit(X_train, y_train) #Fit the Model given the PLS Function"
   ]
  },
  {
   "cell_type": "markdown",
   "id": "2419052f",
   "metadata": {},
   "source": [
    "#### 4. Score The Determination of the Prediction"
   ]
  },
  {
   "cell_type": "code",
   "execution_count": 4,
   "id": "a3b7db98",
   "metadata": {},
   "outputs": [
    {
     "data": {
      "text/plain": [
       "0.3644632571219071"
      ]
     },
     "execution_count": 4,
     "metadata": {},
     "output_type": "execute_result"
    }
   ],
   "source": [
    "pls_da.score(X_test,y_test)"
   ]
  },
  {
   "cell_type": "markdown",
   "id": "ce502b13",
   "metadata": {},
   "source": [
    "#### 5. Test and Quantify Model Performance"
   ]
  },
  {
   "cell_type": "code",
   "execution_count": 5,
   "id": "28818b3c",
   "metadata": {},
   "outputs": [
    {
     "name": "stdout",
     "output_type": "stream",
     "text": [
      "[[ 93 248   1]\n",
      " [  0  46   7]\n",
      " [  0  24   7]]\n"
     ]
    }
   ],
   "source": [
    "pls_predictions = (pls_da.predict(X_test)[:,0]).astype('uint8') #Create predictions based on the PLS model with unseen test data \n",
    "pls_predictions += 1\n",
    "\n",
    "#Compare the predictions to the known test values\n",
    "print(metrics.confusion_matrix(y_test, pls_predictions))"
   ]
  },
  {
   "cell_type": "markdown",
   "id": "e8ed0637",
   "metadata": {},
   "source": [
    "#### 6. Visualize Data"
   ]
  },
  {
   "cell_type": "code",
   "execution_count": 6,
   "id": "36df0028",
   "metadata": {},
   "outputs": [
    {
     "name": "stdout",
     "output_type": "stream",
     "text": [
      "Confusion matrix, without normalization\n",
      "[[ 93 248   1]\n",
      " [  0  46   7]\n",
      " [  0  24   7]]\n",
      "Normalized confusion matrix\n",
      "[[0.27 0.73 0.  ]\n",
      " [0.   0.87 0.13]\n",
      " [0.   0.77 0.23]]\n"
     ]
    },
    {
     "data": {
      "image/png": "[encoded data removed]",
      "text/plain": [
       "<Figure size 432x288 with 2 Axes>"
      ]
     },
     "metadata": {
      "needs_background": "light"
     },
     "output_type": "display_data"
    },
    {
     "data": {
      "image/png": "[encoded data removed]",
      "text/plain": [
       "<Figure size 432x288 with 2 Axes>"
      ]
     },
     "metadata": {
      "needs_background": "light"
     },
     "output_type": "display_data"
    }
   ],
   "source": [
    "np.set_printoptions(precision=2)\n",
    "\n",
    "# Plot non-normalized confusion matrix\n",
    "titles_options = [\n",
    "    (\"Confusion matrix, without normalization\", None),\n",
    "    (\"Normalized confusion matrix\", \"true\"),\n",
    "]\n",
    "for title, normalize in titles_options:\n",
    "    cm = metrics.confusion_matrix(y_test, pls_predictions, normalize = normalize)\n",
    "    disp = ConfusionMatrixDisplay(cm)\n",
    "\n",
    "    print(title)\n",
    "    print(disp.confusion_matrix)\n",
    "    disp.plot()\n",
    "\n",
    "plt.show()"
   ]
  },
  {
   "cell_type": "code",
   "execution_count": null,
   "id": "e34a9f93",
   "metadata": {},
   "outputs": [],
   "source": []
  }
 ],
 "metadata": {
  "kernelspec": {
   "display_name": "Python 3 (ipykernel)",
   "language": "python",
   "name": "python3"
  },
  "language_info": {
   "codemirror_mode": {
    "name": "ipython",
    "version": 3
   },
   "file_extension": ".py",
   "mimetype": "text/x-python",
   "name": "python",
   "nbconvert_exporter": "python",
   "pygments_lexer": "ipython3",
   "version": "3.9.12"
  }
 },
 "nbformat": 4,
 "nbformat_minor": 5
}
