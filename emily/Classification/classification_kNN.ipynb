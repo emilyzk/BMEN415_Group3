{
 "cells": [
  {
   "cell_type": "markdown",
   "id": "17ec0749",
   "metadata": {},
   "source": [
    "#### 1. Import Necessary Packages and Data"
   ]
  },
  {
   "cell_type": "code",
   "execution_count": 1,
   "id": "cd212f5c",
   "metadata": {
    "scrolled": true
   },
   "outputs": [
    {
     "data": {
      "text/html": [
       "<div>\n",
       "<style scoped>\n",
       "    .dataframe tbody tr th:only-of-type {\n",
       "        vertical-align: middle;\n",
       "    }\n",
       "\n",
       "    .dataframe tbody tr th {\n",
       "        vertical-align: top;\n",
       "    }\n",
       "\n",
       "    .dataframe thead th {\n",
       "        text-align: right;\n",
       "    }\n",
       "</style>\n",
       "<table border=\"1\" class=\"dataframe\">\n",
       "  <thead>\n",
       "    <tr style=\"text-align: right;\">\n",
       "      <th></th>\n",
       "      <th>LB</th>\n",
       "      <th>AC</th>\n",
       "      <th>FM</th>\n",
       "      <th>UC</th>\n",
       "      <th>ASTV</th>\n",
       "      <th>MSTV</th>\n",
       "      <th>ALTV</th>\n",
       "      <th>MLTV</th>\n",
       "      <th>DL</th>\n",
       "      <th>DS</th>\n",
       "      <th>DP</th>\n",
       "      <th>NSP</th>\n",
       "    </tr>\n",
       "  </thead>\n",
       "  <tbody>\n",
       "    <tr>\n",
       "      <th>2084</th>\n",
       "      <td>128</td>\n",
       "      <td>1</td>\n",
       "      <td>7</td>\n",
       "      <td>7</td>\n",
       "      <td>76</td>\n",
       "      <td>1.7</td>\n",
       "      <td>25</td>\n",
       "      <td>1.9</td>\n",
       "      <td>0</td>\n",
       "      <td>0</td>\n",
       "      <td>0</td>\n",
       "      <td>1</td>\n",
       "    </tr>\n",
       "    <tr>\n",
       "      <th>471</th>\n",
       "      <td>150</td>\n",
       "      <td>0</td>\n",
       "      <td>2</td>\n",
       "      <td>0</td>\n",
       "      <td>82</td>\n",
       "      <td>0.4</td>\n",
       "      <td>38</td>\n",
       "      <td>5.2</td>\n",
       "      <td>0</td>\n",
       "      <td>0</td>\n",
       "      <td>0</td>\n",
       "      <td>3</td>\n",
       "    </tr>\n",
       "    <tr>\n",
       "      <th>853</th>\n",
       "      <td>138</td>\n",
       "      <td>0</td>\n",
       "      <td>0</td>\n",
       "      <td>1</td>\n",
       "      <td>41</td>\n",
       "      <td>0.7</td>\n",
       "      <td>37</td>\n",
       "      <td>7.8</td>\n",
       "      <td>0</td>\n",
       "      <td>0</td>\n",
       "      <td>0</td>\n",
       "      <td>1</td>\n",
       "    </tr>\n",
       "    <tr>\n",
       "      <th>411</th>\n",
       "      <td>147</td>\n",
       "      <td>0</td>\n",
       "      <td>0</td>\n",
       "      <td>1</td>\n",
       "      <td>71</td>\n",
       "      <td>0.3</td>\n",
       "      <td>17</td>\n",
       "      <td>5.8</td>\n",
       "      <td>1</td>\n",
       "      <td>0</td>\n",
       "      <td>0</td>\n",
       "      <td>2</td>\n",
       "    </tr>\n",
       "    <tr>\n",
       "      <th>1790</th>\n",
       "      <td>121</td>\n",
       "      <td>0</td>\n",
       "      <td>1</td>\n",
       "      <td>1</td>\n",
       "      <td>61</td>\n",
       "      <td>2.0</td>\n",
       "      <td>0</td>\n",
       "      <td>4.9</td>\n",
       "      <td>9</td>\n",
       "      <td>0</td>\n",
       "      <td>0</td>\n",
       "      <td>3</td>\n",
       "    </tr>\n",
       "  </tbody>\n",
       "</table>\n",
       "</div>"
      ],
      "text/plain": [
       "       LB  AC  FM  UC  ASTV  MSTV  ALTV  MLTV  DL  DS  DP  NSP\n",
       "2084  128   1   7   7    76   1.7    25   1.9   0   0   0    1\n",
       "471   150   0   2   0    82   0.4    38   5.2   0   0   0    3\n",
       "853   138   0   0   1    41   0.7    37   7.8   0   0   0    1\n",
       "411   147   0   0   1    71   0.3    17   5.8   1   0   0    2\n",
       "1790  121   0   1   1    61   2.0     0   4.9   9   0   0    3"
      ]
     },
     "execution_count": 1,
     "metadata": {},
     "output_type": "execute_result"
    }
   ],
   "source": [
    "# GENERAL\n",
    "import pandas as pd                                    #Used to read data\n",
    "import numpy as np                                     #Used to compute Root Mean Square Error\n",
    "import matplotlib.pyplot as plt                        #Used to visualize data\n",
    "import seaborn as sns                                  #Used to visualize data\n",
    "from sklearn.model_selection import train_test_split   #Used to split the data into test and train sets \n",
    "from sklearn import metrics                            #Used to compute R^2, Mean Abs Error and Mean Square Error  \n",
    "from sklearn.metrics import ConfusionMatrixDisplay     #Used to visualize data\n",
    "\n",
    "# MODEL SPECIFIC\n",
    "from sklearn.neighbors import KNeighborsClassifier      #Used to fit and predict a PLS Model \n",
    "\n",
    "# DATA\n",
    "inputData = pd.read_excel(r'/Users/emilyknight/Documents/BMEN415 Final Project/CTG.xlsx').sample(frac = 1) #Import data\n",
    "\n",
    "inputData.head() #Print complete dataset to console"
   ]
  },
  {
   "cell_type": "markdown",
   "id": "4bee194e",
   "metadata": {},
   "source": [
    "#### 2. Select and Split Input and Output Vectors"
   ]
  },
  {
   "cell_type": "code",
   "execution_count": 2,
   "id": "f300f690",
   "metadata": {},
   "outputs": [],
   "source": [
    "# Select Input Vector, X, and Output Vector, y\n",
    "X = inputData.drop(columns=['NSP']) #Input vector is all data but the Fetal State Class Code\n",
    "y = inputData['NSP'] #Output data is the Fetal State Class Code\n",
    "\n",
    "X_train, X_test, y_train, y_test = train_test_split(X, y, test_size=0.2, random_state = 0) #Split vectors, 20% will be used for testing "
   ]
  },
  {
   "cell_type": "markdown",
   "id": "b4334d5a",
   "metadata": {},
   "source": [
    "#### 3. Instantiate and Fit Models"
   ]
  },
  {
   "cell_type": "code",
   "execution_count": 3,
   "id": "4001c5f2",
   "metadata": {},
   "outputs": [
    {
     "data": {
      "text/plain": [
       "KNeighborsClassifier(n_neighbors=3)"
      ]
     },
     "execution_count": 3,
     "metadata": {},
     "output_type": "execute_result"
    }
   ],
   "source": [
    "kNN = KNeighborsClassifier(n_neighbors=3) #kNN Model with 3 Neighbours\n",
    "\n",
    "kNN.fit(X_train, y_train) #Fit the Model given the kNN Function"
   ]
  },
  {
   "cell_type": "markdown",
   "id": "2419052f",
   "metadata": {},
   "source": [
    "#### 4. Score The Determination of the Prediction"
   ]
  },
  {
   "cell_type": "code",
   "execution_count": 4,
   "id": "a3b7db98",
   "metadata": {},
   "outputs": [
    {
     "data": {
      "text/plain": [
       "0.9295774647887324"
      ]
     },
     "execution_count": 4,
     "metadata": {},
     "output_type": "execute_result"
    }
   ],
   "source": [
    "kNN.score(X_test,y_test)"
   ]
  },
  {
   "cell_type": "markdown",
   "id": "ce502b13",
   "metadata": {},
   "source": [
    "#### 5. Test and Quantify Model Performance"
   ]
  },
  {
   "cell_type": "code",
   "execution_count": 5,
   "id": "28818b3c",
   "metadata": {},
   "outputs": [
    {
     "name": "stdout",
     "output_type": "stream",
     "text": [
      "[[318   8   0]\n",
      " [ 17  44   0]\n",
      " [  4   1  34]]\n"
     ]
    }
   ],
   "source": [
    "kNN_predictions = kNN.predict(X_test) #Create predictions based on the kNN model with unseen test data \n",
    "\n",
    "#Compare the predictions to the known test values\n",
    "print(metrics.confusion_matrix(y_test, kNN_predictions))"
   ]
  },
  {
   "cell_type": "markdown",
   "id": "e8ed0637",
   "metadata": {},
   "source": [
    "#### 6. Visualize Data"
   ]
  },
  {
   "cell_type": "code",
   "execution_count": 6,
   "id": "36df0028",
   "metadata": {},
   "outputs": [
    {
     "name": "stdout",
     "output_type": "stream",
     "text": [
      "Confusion matrix, without normalization\n",
      "[[318   8   0]\n",
      " [ 17  44   0]\n",
      " [  4   1  34]]\n",
      "Normalized confusion matrix\n",
      "[[0.98 0.02 0.  ]\n",
      " [0.28 0.72 0.  ]\n",
      " [0.1  0.03 0.87]]\n"
     ]
    },
    {
     "data": {
      "image/png": "[encoded data removed]",
      "text/plain": [
       "<Figure size 432x288 with 2 Axes>"
      ]
     },
     "metadata": {
      "needs_background": "light"
     },
     "output_type": "display_data"
    },
    {
     "data": {
      "image/png": "[encoded data removed]",
      "text/plain": [
       "<Figure size 432x288 with 2 Axes>"
      ]
     },
     "metadata": {
      "needs_background": "light"
     },
     "output_type": "display_data"
    }
   ],
   "source": [
    "np.set_printoptions(precision=2)\n",
    "\n",
    "# Plot non-normalized confusion matrix\n",
    "titles_options = [\n",
    "    (\"Confusion matrix, without normalization\", None),\n",
    "    (\"Normalized confusion matrix\", \"true\"),\n",
    "]\n",
    "for title, normalize in titles_options:\n",
    "    disp = ConfusionMatrixDisplay.from_estimator(kNN,\n",
    "                                                 X_test,\n",
    "                                                 y_test,\n",
    "        #display_labels=class_names,\n",
    "        cmap=plt.cm.Blues,\n",
    "        normalize=normalize,\n",
    "    )\n",
    "    disp.ax_.set_title(title)\n",
    "\n",
    "    print(title)\n",
    "    print(disp.confusion_matrix)\n",
    "\n",
    "plt.show()"
   ]
  },
  {
   "cell_type": "code",
   "execution_count": null,
   "id": "e34a9f93",
   "metadata": {},
   "outputs": [],
   "source": []
  }
 ],
 "metadata": {
  "kernelspec": {
   "display_name": "Python 3 (ipykernel)",
   "language": "python",
   "name": "python3"
  },
  "language_info": {
   "codemirror_mode": {
    "name": "ipython",
    "version": 3
   },
   "file_extension": ".py",
   "mimetype": "text/x-python",
   "name": "python",
   "nbconvert_exporter": "python",
   "pygments_lexer": "ipython3",
   "version": "3.9.12"
  }
 },
 "nbformat": 4,
 "nbformat_minor": 5
}
