{
 "cells": [
  {
   "cell_type": "code",
   "execution_count": 2,
   "id": "892b99e4",
   "metadata": {},
   "outputs": [],
   "source": [
    "import os\n",
    "from glob import glob\n",
    "import pandas as pd\n",
    "import numpy as np\n",
    "from numpy import expand_dims\n",
    "import matplotlib.pyplot as plt\n",
    "import matplotlib.image as mpimg\n",
    "import seaborn as sn\n",
    "# from skimage.transform import resize\n",
    "# from skimage.color import gray2rgb\n",
    "from sklearn.metrics import classification_report, confusion_matrix\n",
    "from IPython.display import SVG\n",
    "# import keract\n",
    "\n",
    "from tensorflow import keras\n",
    "from tensorflow.keras import applications, optimizers\n",
    "from tensorflow.keras.models import Model, Sequential, load_model\n",
    "from tensorflow.keras.preprocessing.image import ImageDataGenerator, load_img, img_to_array\n",
    "from tensorflow.keras.layers import Dense, Flatten, Dropout\n",
    "from tensorflow.keras.applications.vgg16 import VGG16, preprocess_input\n",
    "from tensorflow.keras.utils import to_categorical, model_to_dot, plot_model\n",
    "from tensorflow.keras.callbacks import ModelCheckpoint, EarlyStopping, CSVLogger, ReduceLROnPlateau\n"
   ]
  },
  {
   "cell_type": "code",
   "execution_count": null,
   "id": "58e77c5f",
   "metadata": {},
   "outputs": [],
   "source": [
    "data_dir = \"../input/kermany2018/OCT2017 /\"\n",
    "train_data_dir= '../input/kermany2018/OCT2017 /train/'\n",
    "val_data_dir= '../input/kermany2018/OCT2017 /val/'\n",
    "test_data_dir= '../input/kermany2018/OCT2017 /test/'\n",
    "img_width, img_height = 150, 150 \n",
    "channels = 3\n",
    "batch_size = 32\n",
    "# image_arr_size= img_width * img_height * channels\n"
   ]
  }
 ],
 "metadata": {
  "kernelspec": {
   "display_name": "DeppL",
   "language": "python",
   "name": "deppl"
  },
  "language_info": {
   "codemirror_mode": {
    "name": "ipython",
    "version": 3
   },
   "file_extension": ".py",
   "mimetype": "text/x-python",
   "name": "python",
   "nbconvert_exporter": "python",
   "pygments_lexer": "ipython3",
   "version": "3.7.11"
  }
 },
 "nbformat": 4,
 "nbformat_minor": 5
}
