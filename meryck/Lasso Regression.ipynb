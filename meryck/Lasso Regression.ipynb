{
 "cells": [
  {
   "cell_type": "code",
   "execution_count": 1,
   "id": "67180ffb",
   "metadata": {},
   "outputs": [],
   "source": [
    "import pandas as pd\n",
    "import numpy as np\n",
    "import csv\n",
    "import matplotlib.pyplot as plt\n",
    "from sklearn.model_selection import train_test_split\n",
    "from sklearn import metrics\n",
    "\n",
    "\n",
    "from sklearn.linear_model import SGDRegressor\n",
    "from sklearn.pipeline import make_pipeline\n",
    "from sklearn.preprocessing import StandardScaler\n",
    "from sklearn.feature_selection import SelectFromModel\n",
    "from sklearn.svm import LinearSVC\n",
    "import seaborn as sns"
   ]
  },
  {
   "cell_type": "code",
   "execution_count": 2,
   "id": "2034c9d4",
   "metadata": {},
   "outputs": [
    {
     "data": {
      "text/html": [
       "<div>\n",
       "<style scoped>\n",
       "    .dataframe tbody tr th:only-of-type {\n",
       "        vertical-align: middle;\n",
       "    }\n",
       "\n",
       "    .dataframe tbody tr th {\n",
       "        vertical-align: top;\n",
       "    }\n",
       "\n",
       "    .dataframe thead th {\n",
       "        text-align: right;\n",
       "    }\n",
       "</style>\n",
       "<table border=\"1\" class=\"dataframe\">\n",
       "  <thead>\n",
       "    <tr style=\"text-align: right;\">\n",
       "      <th></th>\n",
       "      <th>S.No</th>\n",
       "      <th>Left-Thalamus</th>\n",
       "      <th>3rd-Ventricle</th>\n",
       "      <th>Left-Hippocampus</th>\n",
       "      <th>Left-Amygdala</th>\n",
       "      <th>Left-choroid-plexus</th>\n",
       "      <th>Right-Thalamus</th>\n",
       "      <th>Right-Putamen</th>\n",
       "      <th>Right-Accumbens-area</th>\n",
       "      <th>lhCortexVol</th>\n",
       "      <th>...</th>\n",
       "      <th>rh_inferiorparietal_thickness</th>\n",
       "      <th>rh_parsopercularis_thickness</th>\n",
       "      <th>rh_parstriangularis_thickness</th>\n",
       "      <th>rh_postcentral_thickness</th>\n",
       "      <th>rh_precentral_thickness</th>\n",
       "      <th>rh_rostralmiddlefrontal_thickness</th>\n",
       "      <th>rh_superiorfrontal_thickness</th>\n",
       "      <th>rh_supramarginal_thickness</th>\n",
       "      <th>rh_MeanThickness_thickness</th>\n",
       "      <th>Age</th>\n",
       "    </tr>\n",
       "  </thead>\n",
       "  <tbody>\n",
       "    <tr>\n",
       "      <th>2915</th>\n",
       "      <td>2916</td>\n",
       "      <td>8531.2</td>\n",
       "      <td>587.8</td>\n",
       "      <td>4613.3</td>\n",
       "      <td>1699.0</td>\n",
       "      <td>447.2</td>\n",
       "      <td>9638.3</td>\n",
       "      <td>4049.6</td>\n",
       "      <td>807.5</td>\n",
       "      <td>271888.9766</td>\n",
       "      <td>...</td>\n",
       "      <td>2.403</td>\n",
       "      <td>2.419</td>\n",
       "      <td>2.376</td>\n",
       "      <td>2.041</td>\n",
       "      <td>2.491</td>\n",
       "      <td>2.133</td>\n",
       "      <td>2.472</td>\n",
       "      <td>2.396</td>\n",
       "      <td>2.36172</td>\n",
       "      <td>49</td>\n",
       "    </tr>\n",
       "    <tr>\n",
       "      <th>1044</th>\n",
       "      <td>1045</td>\n",
       "      <td>5502.8</td>\n",
       "      <td>2257.5</td>\n",
       "      <td>3504.2</td>\n",
       "      <td>1216.6</td>\n",
       "      <td>739.0</td>\n",
       "      <td>5213.4</td>\n",
       "      <td>4321.3</td>\n",
       "      <td>390.6</td>\n",
       "      <td>197384.5949</td>\n",
       "      <td>...</td>\n",
       "      <td>2.308</td>\n",
       "      <td>2.377</td>\n",
       "      <td>2.310</td>\n",
       "      <td>1.824</td>\n",
       "      <td>2.170</td>\n",
       "      <td>2.251</td>\n",
       "      <td>2.516</td>\n",
       "      <td>2.348</td>\n",
       "      <td>2.30058</td>\n",
       "      <td>75</td>\n",
       "    </tr>\n",
       "    <tr>\n",
       "      <th>515</th>\n",
       "      <td>516</td>\n",
       "      <td>6052.2</td>\n",
       "      <td>1270.1</td>\n",
       "      <td>3134.3</td>\n",
       "      <td>1079.6</td>\n",
       "      <td>730.1</td>\n",
       "      <td>5978.4</td>\n",
       "      <td>3925.5</td>\n",
       "      <td>285.5</td>\n",
       "      <td>201231.3318</td>\n",
       "      <td>...</td>\n",
       "      <td>2.335</td>\n",
       "      <td>2.538</td>\n",
       "      <td>2.397</td>\n",
       "      <td>1.851</td>\n",
       "      <td>2.308</td>\n",
       "      <td>2.046</td>\n",
       "      <td>2.570</td>\n",
       "      <td>2.301</td>\n",
       "      <td>2.25266</td>\n",
       "      <td>81</td>\n",
       "    </tr>\n",
       "    <tr>\n",
       "      <th>2974</th>\n",
       "      <td>2975</td>\n",
       "      <td>5144.1</td>\n",
       "      <td>2266.0</td>\n",
       "      <td>3411.5</td>\n",
       "      <td>1089.1</td>\n",
       "      <td>1221.7</td>\n",
       "      <td>4670.0</td>\n",
       "      <td>3844.9</td>\n",
       "      <td>337.8</td>\n",
       "      <td>208419.6029</td>\n",
       "      <td>...</td>\n",
       "      <td>2.241</td>\n",
       "      <td>2.457</td>\n",
       "      <td>2.356</td>\n",
       "      <td>1.881</td>\n",
       "      <td>2.535</td>\n",
       "      <td>2.255</td>\n",
       "      <td>2.400</td>\n",
       "      <td>2.345</td>\n",
       "      <td>2.28944</td>\n",
       "      <td>81</td>\n",
       "    </tr>\n",
       "    <tr>\n",
       "      <th>3766</th>\n",
       "      <td>3767</td>\n",
       "      <td>9256.6</td>\n",
       "      <td>1412.8</td>\n",
       "      <td>4904.1</td>\n",
       "      <td>1943.1</td>\n",
       "      <td>328.2</td>\n",
       "      <td>8414.8</td>\n",
       "      <td>5957.0</td>\n",
       "      <td>546.1</td>\n",
       "      <td>244166.5716</td>\n",
       "      <td>...</td>\n",
       "      <td>2.651</td>\n",
       "      <td>2.744</td>\n",
       "      <td>2.562</td>\n",
       "      <td>2.185</td>\n",
       "      <td>2.611</td>\n",
       "      <td>2.313</td>\n",
       "      <td>2.703</td>\n",
       "      <td>2.610</td>\n",
       "      <td>2.57874</td>\n",
       "      <td>48</td>\n",
       "    </tr>\n",
       "  </tbody>\n",
       "</table>\n",
       "<p>5 rows × 34 columns</p>\n",
       "</div>"
      ],
      "text/plain": [
       "      S.No  Left-Thalamus  3rd-Ventricle  Left-Hippocampus  Left-Amygdala  \\\n",
       "2915  2916         8531.2          587.8            4613.3         1699.0   \n",
       "1044  1045         5502.8         2257.5            3504.2         1216.6   \n",
       "515    516         6052.2         1270.1            3134.3         1079.6   \n",
       "2974  2975         5144.1         2266.0            3411.5         1089.1   \n",
       "3766  3767         9256.6         1412.8            4904.1         1943.1   \n",
       "\n",
       "      Left-choroid-plexus  Right-Thalamus  Right-Putamen  \\\n",
       "2915                447.2          9638.3         4049.6   \n",
       "1044                739.0          5213.4         4321.3   \n",
       "515                 730.1          5978.4         3925.5   \n",
       "2974               1221.7          4670.0         3844.9   \n",
       "3766                328.2          8414.8         5957.0   \n",
       "\n",
       "      Right-Accumbens-area  lhCortexVol  ...  rh_inferiorparietal_thickness  \\\n",
       "2915                 807.5  271888.9766  ...                          2.403   \n",
       "1044                 390.6  197384.5949  ...                          2.308   \n",
       "515                  285.5  201231.3318  ...                          2.335   \n",
       "2974                 337.8  208419.6029  ...                          2.241   \n",
       "3766                 546.1  244166.5716  ...                          2.651   \n",
       "\n",
       "      rh_parsopercularis_thickness  rh_parstriangularis_thickness  \\\n",
       "2915                         2.419                          2.376   \n",
       "1044                         2.377                          2.310   \n",
       "515                          2.538                          2.397   \n",
       "2974                         2.457                          2.356   \n",
       "3766                         2.744                          2.562   \n",
       "\n",
       "      rh_postcentral_thickness  rh_precentral_thickness  \\\n",
       "2915                     2.041                    2.491   \n",
       "1044                     1.824                    2.170   \n",
       "515                      1.851                    2.308   \n",
       "2974                     1.881                    2.535   \n",
       "3766                     2.185                    2.611   \n",
       "\n",
       "      rh_rostralmiddlefrontal_thickness  rh_superiorfrontal_thickness  \\\n",
       "2915                              2.133                         2.472   \n",
       "1044                              2.251                         2.516   \n",
       "515                               2.046                         2.570   \n",
       "2974                              2.255                         2.400   \n",
       "3766                              2.313                         2.703   \n",
       "\n",
       "      rh_supramarginal_thickness  rh_MeanThickness_thickness  Age  \n",
       "2915                       2.396                     2.36172   49  \n",
       "1044                       2.348                     2.30058   75  \n",
       "515                        2.301                     2.25266   81  \n",
       "2974                       2.345                     2.28944   81  \n",
       "3766                       2.610                     2.57874   48  \n",
       "\n",
       "[5 rows x 34 columns]"
      ]
     },
     "execution_count": 2,
     "metadata": {},
     "output_type": "execute_result"
    }
   ],
   "source": [
    "inputData = pd.read_excel(r'/Users/meryckmucenski/Desktop/Volumetric_features-newest.xlsx', engine='openpyxl').sample(frac = 1)\n",
    "\n",
    "inputData.head()"
   ]
  },
  {
   "cell_type": "code",
   "execution_count": 3,
   "id": "d3bd8dd0",
   "metadata": {},
   "outputs": [],
   "source": [
    "# select the input brain volume vector (X) and the output age vector (y)\n",
    "X = inputData.drop(columns=['Age'])\n",
    "y = inputData['Age']\n"
   ]
  },
  {
   "cell_type": "code",
   "execution_count": 4,
   "id": "519c9add",
   "metadata": {},
   "outputs": [],
   "source": [
    "# split the X and y vectors into training and testing dataset\n",
    "# we're using 80% for training and 20% for testing, but this can change\n",
    "X_train, X_test, y_train, y_test = train_test_split(X, y, test_size=0.2, random_state=0)\n"
   ]
  },
  {
   "cell_type": "code",
   "execution_count": 5,
   "id": "ad432e20",
   "metadata": {},
   "outputs": [
    {
     "data": {
      "text/plain": [
       "Lasso(alpha=0.1)"
      ]
     },
     "execution_count": 5,
     "metadata": {},
     "output_type": "execute_result"
    }
   ],
   "source": [
    "from sklearn import linear_model\n",
    "myLassoReg = linear_model.Lasso(alpha=0.1)\n",
    "myLassoReg.fit(X_train,y_train)\n"
   ]
  },
  {
   "cell_type": "code",
   "execution_count": 6,
   "id": "fc2b243d",
   "metadata": {},
   "outputs": [
    {
     "name": "stdout",
     "output_type": "stream",
     "text": [
      "r square value: 0.7659145850392234\n",
      "mean absolute error (years): 7.652143164230631\n",
      "mean square error: 92.42915934349519\n",
      "root mean absolute error (years): 9.614008495081288\n"
     ]
    }
   ],
   "source": [
    "# check the model's performance on unseen, test data\n",
    "predictions = myLassoReg.predict(X_test)\n",
    "\n",
    "# compare the predictions to the known values (y_test)\n",
    "print('r square value:', metrics.r2_score(y_test, predictions))\n",
    "print('mean absolute error (years):', metrics.mean_absolute_error(y_test, predictions))\n",
    "print('mean square error:', metrics.mean_squared_error(y_test, predictions))\n",
    "print('root mean absolute error (years):', np.sqrt(metrics.mean_squared_error(y_test, predictions)))\n"
   ]
  },
  {
   "cell_type": "code",
   "execution_count": 7,
   "id": "9e90d708",
   "metadata": {},
   "outputs": [
    {
     "name": "stderr",
     "output_type": "stream",
     "text": [
      "/Users/meryckmucenski/opt/anaconda3/lib/python3.9/site-packages/seaborn/_decorators.py:36: FutureWarning: Pass the following variables as keyword args: x, y. From version 0.12, the only valid positional argument will be `data`, and passing other arguments without an explicit keyword will result in an error or misinterpretation.\n",
      "  warnings.warn(\n"
     ]
    },
    {
     "data": {
      "text/plain": [
       "<AxesSubplot:xlabel='Age'>"
      ]
     },
     "execution_count": 7,
     "metadata": {},
     "output_type": "execute_result"
    },
    {
     "data": {
      "image/png": "[encoded data removed]",
      "text/plain": [
       "<Figure size 432x288 with 1 Axes>"
      ]
     },
     "metadata": {
      "needs_background": "light"
     },
     "output_type": "display_data"
    }
   ],
   "source": [
    "sns.scatterplot(y_test, predictions)"
   ]
  },
  {
   "cell_type": "code",
   "execution_count": null,
   "id": "c49855ee",
   "metadata": {},
   "outputs": [],
   "source": []
  }
 ],
 "metadata": {
  "kernelspec": {
   "display_name": "Python 3 (ipykernel)",
   "language": "python",
   "name": "python3"
  },
  "language_info": {
   "codemirror_mode": {
    "name": "ipython",
    "version": 3
   },
   "file_extension": ".py",
   "mimetype": "text/x-python",
   "name": "python",
   "nbconvert_exporter": "python",
   "pygments_lexer": "ipython3",
   "version": "3.9.7"
  }
 },
 "nbformat": 4,
 "nbformat_minor": 5
}
