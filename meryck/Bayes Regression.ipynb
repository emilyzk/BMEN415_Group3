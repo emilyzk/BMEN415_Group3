{
 "cells": [
  {
   "cell_type": "code",
   "execution_count": 1,
   "id": "67180ffb",
   "metadata": {},
   "outputs": [],
   "source": [
    "import pandas as pd\n",
    "import numpy as np\n",
    "import csv\n",
    "import matplotlib.pyplot as plt\n",
    "from sklearn.model_selection import train_test_split\n",
    "from sklearn import metrics\n",
    "\n",
    "from sklearn import linear_model"
   ]
  },
  {
   "cell_type": "code",
   "execution_count": 2,
   "id": "ba5864a9",
   "metadata": {},
   "outputs": [],
   "source": [
    "# Model-specific imports:\n",
    "from sklearn.linear_model import LogisticRegression\n",
    "from sklearn.preprocessing import StandardScaler"
   ]
  },
  {
   "cell_type": "code",
   "execution_count": 3,
   "id": "2034c9d4",
   "metadata": {},
   "outputs": [
    {
     "data": {
      "text/html": [
       "<div>\n",
       "<style scoped>\n",
       "    .dataframe tbody tr th:only-of-type {\n",
       "        vertical-align: middle;\n",
       "    }\n",
       "\n",
       "    .dataframe tbody tr th {\n",
       "        vertical-align: top;\n",
       "    }\n",
       "\n",
       "    .dataframe thead th {\n",
       "        text-align: right;\n",
       "    }\n",
       "</style>\n",
       "<table border=\"1\" class=\"dataframe\">\n",
       "  <thead>\n",
       "    <tr style=\"text-align: right;\">\n",
       "      <th></th>\n",
       "      <th>S.No</th>\n",
       "      <th>Left-Thalamus</th>\n",
       "      <th>3rd-Ventricle</th>\n",
       "      <th>Left-Hippocampus</th>\n",
       "      <th>Left-Amygdala</th>\n",
       "      <th>Left-choroid-plexus</th>\n",
       "      <th>Right-Thalamus</th>\n",
       "      <th>Right-Putamen</th>\n",
       "      <th>Right-Accumbens-area</th>\n",
       "      <th>lhCortexVol</th>\n",
       "      <th>...</th>\n",
       "      <th>rh_inferiorparietal_thickness</th>\n",
       "      <th>rh_parsopercularis_thickness</th>\n",
       "      <th>rh_parstriangularis_thickness</th>\n",
       "      <th>rh_postcentral_thickness</th>\n",
       "      <th>rh_precentral_thickness</th>\n",
       "      <th>rh_rostralmiddlefrontal_thickness</th>\n",
       "      <th>rh_superiorfrontal_thickness</th>\n",
       "      <th>rh_supramarginal_thickness</th>\n",
       "      <th>rh_MeanThickness_thickness</th>\n",
       "      <th>Age</th>\n",
       "    </tr>\n",
       "  </thead>\n",
       "  <tbody>\n",
       "    <tr>\n",
       "      <th>1402</th>\n",
       "      <td>1403</td>\n",
       "      <td>7206.0</td>\n",
       "      <td>1504.7</td>\n",
       "      <td>3760.2</td>\n",
       "      <td>1681.7</td>\n",
       "      <td>486.7</td>\n",
       "      <td>6875.2</td>\n",
       "      <td>4697.6</td>\n",
       "      <td>448.8</td>\n",
       "      <td>239959.8386</td>\n",
       "      <td>...</td>\n",
       "      <td>2.543</td>\n",
       "      <td>2.452</td>\n",
       "      <td>2.632</td>\n",
       "      <td>2.238</td>\n",
       "      <td>2.502</td>\n",
       "      <td>2.422</td>\n",
       "      <td>2.647</td>\n",
       "      <td>2.589</td>\n",
       "      <td>2.49133</td>\n",
       "      <td>62</td>\n",
       "    </tr>\n",
       "    <tr>\n",
       "      <th>3939</th>\n",
       "      <td>3940</td>\n",
       "      <td>7395.9</td>\n",
       "      <td>986.0</td>\n",
       "      <td>3582.0</td>\n",
       "      <td>1444.2</td>\n",
       "      <td>483.9</td>\n",
       "      <td>7421.3</td>\n",
       "      <td>4174.4</td>\n",
       "      <td>505.5</td>\n",
       "      <td>205729.4086</td>\n",
       "      <td>...</td>\n",
       "      <td>2.419</td>\n",
       "      <td>2.614</td>\n",
       "      <td>2.386</td>\n",
       "      <td>2.021</td>\n",
       "      <td>2.344</td>\n",
       "      <td>2.282</td>\n",
       "      <td>2.649</td>\n",
       "      <td>2.514</td>\n",
       "      <td>2.38197</td>\n",
       "      <td>58</td>\n",
       "    </tr>\n",
       "    <tr>\n",
       "      <th>145</th>\n",
       "      <td>146</td>\n",
       "      <td>6909.4</td>\n",
       "      <td>1683.0</td>\n",
       "      <td>3564.7</td>\n",
       "      <td>1017.1</td>\n",
       "      <td>857.0</td>\n",
       "      <td>5847.1</td>\n",
       "      <td>4762.5</td>\n",
       "      <td>398.2</td>\n",
       "      <td>224170.5652</td>\n",
       "      <td>...</td>\n",
       "      <td>2.192</td>\n",
       "      <td>2.410</td>\n",
       "      <td>2.270</td>\n",
       "      <td>1.692</td>\n",
       "      <td>2.352</td>\n",
       "      <td>2.185</td>\n",
       "      <td>2.406</td>\n",
       "      <td>2.299</td>\n",
       "      <td>2.28319</td>\n",
       "      <td>73</td>\n",
       "    </tr>\n",
       "    <tr>\n",
       "      <th>2235</th>\n",
       "      <td>2236</td>\n",
       "      <td>8660.0</td>\n",
       "      <td>1160.0</td>\n",
       "      <td>4084.6</td>\n",
       "      <td>1800.0</td>\n",
       "      <td>481.6</td>\n",
       "      <td>7967.3</td>\n",
       "      <td>5743.8</td>\n",
       "      <td>548.6</td>\n",
       "      <td>230334.9529</td>\n",
       "      <td>...</td>\n",
       "      <td>2.362</td>\n",
       "      <td>2.406</td>\n",
       "      <td>2.439</td>\n",
       "      <td>1.953</td>\n",
       "      <td>2.283</td>\n",
       "      <td>2.297</td>\n",
       "      <td>2.671</td>\n",
       "      <td>2.479</td>\n",
       "      <td>2.38208</td>\n",
       "      <td>54</td>\n",
       "    </tr>\n",
       "    <tr>\n",
       "      <th>3971</th>\n",
       "      <td>3972</td>\n",
       "      <td>7601.3</td>\n",
       "      <td>1316.8</td>\n",
       "      <td>3450.0</td>\n",
       "      <td>1557.6</td>\n",
       "      <td>949.9</td>\n",
       "      <td>7973.7</td>\n",
       "      <td>4955.9</td>\n",
       "      <td>559.6</td>\n",
       "      <td>248611.0785</td>\n",
       "      <td>...</td>\n",
       "      <td>2.457</td>\n",
       "      <td>2.658</td>\n",
       "      <td>2.528</td>\n",
       "      <td>2.372</td>\n",
       "      <td>2.832</td>\n",
       "      <td>2.380</td>\n",
       "      <td>2.755</td>\n",
       "      <td>2.675</td>\n",
       "      <td>2.54983</td>\n",
       "      <td>65</td>\n",
       "    </tr>\n",
       "  </tbody>\n",
       "</table>\n",
       "<p>5 rows × 34 columns</p>\n",
       "</div>"
      ],
      "text/plain": [
       "      S.No  Left-Thalamus  3rd-Ventricle  Left-Hippocampus  Left-Amygdala  \\\n",
       "1402  1403         7206.0         1504.7            3760.2         1681.7   \n",
       "3939  3940         7395.9          986.0            3582.0         1444.2   \n",
       "145    146         6909.4         1683.0            3564.7         1017.1   \n",
       "2235  2236         8660.0         1160.0            4084.6         1800.0   \n",
       "3971  3972         7601.3         1316.8            3450.0         1557.6   \n",
       "\n",
       "      Left-choroid-plexus  Right-Thalamus  Right-Putamen  \\\n",
       "1402                486.7          6875.2         4697.6   \n",
       "3939                483.9          7421.3         4174.4   \n",
       "145                 857.0          5847.1         4762.5   \n",
       "2235                481.6          7967.3         5743.8   \n",
       "3971                949.9          7973.7         4955.9   \n",
       "\n",
       "      Right-Accumbens-area  lhCortexVol  ...  rh_inferiorparietal_thickness  \\\n",
       "1402                 448.8  239959.8386  ...                          2.543   \n",
       "3939                 505.5  205729.4086  ...                          2.419   \n",
       "145                  398.2  224170.5652  ...                          2.192   \n",
       "2235                 548.6  230334.9529  ...                          2.362   \n",
       "3971                 559.6  248611.0785  ...                          2.457   \n",
       "\n",
       "      rh_parsopercularis_thickness  rh_parstriangularis_thickness  \\\n",
       "1402                         2.452                          2.632   \n",
       "3939                         2.614                          2.386   \n",
       "145                          2.410                          2.270   \n",
       "2235                         2.406                          2.439   \n",
       "3971                         2.658                          2.528   \n",
       "\n",
       "      rh_postcentral_thickness  rh_precentral_thickness  \\\n",
       "1402                     2.238                    2.502   \n",
       "3939                     2.021                    2.344   \n",
       "145                      1.692                    2.352   \n",
       "2235                     1.953                    2.283   \n",
       "3971                     2.372                    2.832   \n",
       "\n",
       "      rh_rostralmiddlefrontal_thickness  rh_superiorfrontal_thickness  \\\n",
       "1402                              2.422                         2.647   \n",
       "3939                              2.282                         2.649   \n",
       "145                               2.185                         2.406   \n",
       "2235                              2.297                         2.671   \n",
       "3971                              2.380                         2.755   \n",
       "\n",
       "      rh_supramarginal_thickness  rh_MeanThickness_thickness  Age  \n",
       "1402                       2.589                     2.49133   62  \n",
       "3939                       2.514                     2.38197   58  \n",
       "145                        2.299                     2.28319   73  \n",
       "2235                       2.479                     2.38208   54  \n",
       "3971                       2.675                     2.54983   65  \n",
       "\n",
       "[5 rows x 34 columns]"
      ]
     },
     "execution_count": 3,
     "metadata": {},
     "output_type": "execute_result"
    }
   ],
   "source": [
    "inputData = pd.read_excel(r'/Users/meryckmucenski/Desktop/Volumetric_features-newest.xlsx', engine='openpyxl').sample(frac = 1)\n",
    "\n",
    "inputData.head()"
   ]
  },
  {
   "cell_type": "code",
   "execution_count": 4,
   "id": "d3bd8dd0",
   "metadata": {},
   "outputs": [],
   "source": [
    "# select the input brain volume vector (X) and the output age vector (y)\n",
    "X = inputData.drop(columns=['Age'])\n",
    "y = inputData['Age']\n",
    "\n",
    "# split the X and y vectors into training and testing dataset\n",
    "# we're using 80% for training and 20% for testing, but this can change\n",
    "X_train, X_test, y_train, y_test = train_test_split(X, y, test_size=0.2,random_state=0)"
   ]
  },
  {
   "cell_type": "code",
   "execution_count": 5,
   "id": "ec9bab67",
   "metadata": {},
   "outputs": [
    {
     "name": "stderr",
     "output_type": "stream",
     "text": [
      "/Users/meryckmucenski/opt/anaconda3/lib/python3.9/site-packages/sklearn/svm/_base.py:1206: ConvergenceWarning: Liblinear failed to converge, increase the number of iterations.\n",
      "  warnings.warn(\n",
      "/Users/meryckmucenski/opt/anaconda3/lib/python3.9/site-packages/sklearn/base.py:443: UserWarning: X has feature names, but SelectFromModel was fitted without feature names\n",
      "  warnings.warn(\n"
     ]
    },
    {
     "data": {
      "text/plain": [
       "(4226, 14)"
      ]
     },
     "execution_count": 5,
     "metadata": {},
     "output_type": "execute_result"
    }
   ],
   "source": [
    "from sklearn.svm import LinearSVC\n",
    "from sklearn.feature_selection import SelectFromModel\n",
    "\n",
    "X.shape\n",
    "lsvc = LinearSVC(C=0.01, penalty=\"l1\", dual=False).fit(X, y)\n",
    "model = SelectFromModel(lsvc, prefit=True)\n",
    "X_new = model.transform(X)\n",
    "X_new.shape"
   ]
  },
  {
   "cell_type": "code",
   "execution_count": 6,
   "id": "b5fa9eb2",
   "metadata": {},
   "outputs": [
    {
     "data": {
      "text/plain": [
       "BayesianRidge()"
      ]
     },
     "execution_count": 6,
     "metadata": {},
     "output_type": "execute_result"
    }
   ],
   "source": [
    "# instantiate a logistic regression model using sklearn:\n",
    "\n",
    "reg = linear_model.BayesianRidge()\n",
    "\n",
    "# fit the model to the training data\n",
    "reg.fit(X_train, y_train)"
   ]
  },
  {
   "cell_type": "code",
   "execution_count": 7,
   "id": "fc2b243d",
   "metadata": {},
   "outputs": [
    {
     "name": "stdout",
     "output_type": "stream",
     "text": [
      "r square value: 0.7665253319625621\n",
      "mean absolute error (years): 7.654881423010187\n",
      "mean square error: 90.60513842841685\n",
      "root mean absolute error (years): 9.518673144320948\n"
     ]
    }
   ],
   "source": [
    "# check the model's performance on unseen, test data\n",
    "predictions = reg.predict(X_test)\n",
    "\n",
    "# compare the predictions to the known values (y_test)\n",
    "print('r square value:', metrics.r2_score(y_test, predictions))\n",
    "print('mean absolute error (years):', metrics.mean_absolute_error(y_test, predictions))\n",
    "print('mean square error:', metrics.mean_squared_error(y_test, predictions))\n",
    "print('root mean absolute error (years):', np.sqrt(metrics.mean_squared_error(y_test, predictions)))"
   ]
  },
  {
   "cell_type": "code",
   "execution_count": 8,
   "id": "9e90d708",
   "metadata": {},
   "outputs": [
    {
     "name": "stderr",
     "output_type": "stream",
     "text": [
      "/Users/meryckmucenski/opt/anaconda3/lib/python3.9/site-packages/seaborn/_decorators.py:36: FutureWarning: Pass the following variables as keyword args: x, y. From version 0.12, the only valid positional argument will be `data`, and passing other arguments without an explicit keyword will result in an error or misinterpretation.\n",
      "  warnings.warn(\n"
     ]
    },
    {
     "data": {
      "text/plain": [
       "<AxesSubplot:xlabel='Age'>"
      ]
     },
     "execution_count": 8,
     "metadata": {},
     "output_type": "execute_result"
    },
    {
     "data": {
      "image/png": "[encoded data removed]",
      "text/plain": [
       "<Figure size 432x288 with 1 Axes>"
      ]
     },
     "metadata": {
      "needs_background": "light"
     },
     "output_type": "display_data"
    }
   ],
   "source": [
    "import seaborn as sns\n",
    "sns.scatterplot(y_test, predictions)"
   ]
  },
  {
   "cell_type": "code",
   "execution_count": 9,
   "id": "05432e0a",
   "metadata": {},
   "outputs": [],
   "source": [
    "# similar to linear regression, but since linear regression was good fit we expect this \n",
    "#to also be a good fit"
   ]
  },
  {
   "cell_type": "code",
   "execution_count": null,
   "id": "2be7a35c",
   "metadata": {},
   "outputs": [],
   "source": []
  }
 ],
 "metadata": {
  "kernelspec": {
   "display_name": "Python 3 (ipykernel)",
   "language": "python",
   "name": "python3"
  },
  "language_info": {
   "codemirror_mode": {
    "name": "ipython",
    "version": 3
   },
   "file_extension": ".py",
   "mimetype": "text/x-python",
   "name": "python",
   "nbconvert_exporter": "python",
   "pygments_lexer": "ipython3",
   "version": "3.9.7"
  }
 },
 "nbformat": 4,
 "nbformat_minor": 5
}
