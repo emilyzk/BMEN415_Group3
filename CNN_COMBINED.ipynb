{
 "cells": [
  {
   "cell_type": "code",
   "execution_count": 2,
   "id": "fa7fcd5c",
   "metadata": {},
   "outputs": [],
   "source": [
    "import os \n",
    "import random\n",
    "import numpy as np\n",
    "import seaborn as sns\n",
    "\n",
    "import tensorflow as tf\n",
    "from tensorflow import keras\n",
    "# import tensorflow_addons as tfa\n",
    "from tensorflow.keras.preprocessing.image import ImageDataGenerator, load_img\n",
    "# from tensorflow_addons.metrics import F1Score\n",
    "import matplotlib.pyplot as plt\n",
    "import cv2\n",
    "import skimage\n",
    "from tensorflow.keras import layers\n",
    "from keras.layers import Dense, Dropout, Activation, Flatten, BatchNormalization\n",
    "from keras.applications import VGG16\n",
    "import tensorflow.keras.applications as app\n",
    "from sklearn.metrics import confusion_matrix"
   ]
  },
  {
   "cell_type": "code",
   "execution_count": 3,
   "id": "fd00aa93",
   "metadata": {},
   "outputs": [
    {
     "name": "stderr",
     "output_type": "stream",
     "text": [
      "  2%|▏         | 400/26315 [00:46<50:09,  8.61it/s]  \n",
      "  1%|          | 400/37205 [00:48<1:14:49,  8.20it/s]\n",
      "  4%|▎         | 400/11348 [00:36<16:26, 11.10it/s]\n",
      "  5%|▍         | 400/8616 [00:42<14:37,  9.36it/s]\n"
     ]
    }
   ],
   "source": [
    "imageSize=150\n",
    "train_dir = \"OCT2017/OCT2017/train/\"\n",
    "test_dir =  \"OCT2017/OCT2017/test/\"\n",
    "# ['DME', 'CNV', 'NORMAL', '.DS_Store', 'DRUSEN']\n",
    "from tqdm import tqdm\n",
    "X = []\n",
    "y = []\n",
    "\n",
    "# there are four classes to be predicted\n",
    "predictions = ['NORMAL', 'CNV', 'DME', 'DRUSEN']\n",
    "for i in range(0,4):\n",
    "    # a counter is used to limit the number of images added to the training and testing dataset\n",
    "    counter = 0;\n",
    "    # iterating through the four directories and reading in images with the CV2 package\n",
    "    for image in tqdm(os.listdir(train_dir + predictions[i])):\n",
    "        img_file = cv2.imread(train_dir + predictions[i] + '/' + image)\n",
    "        # only accepting valid images\n",
    "        if img_file is not None:\n",
    "            # resizing all image inputs to be at a standard (150, 150, 3) size\n",
    "            img_file = skimage.transform.resize(img_file, (imageSize, imageSize, 3))\n",
    "            img_arr = np.asarray(img_file)\n",
    "            # adding image to the X matrix\n",
    "            X.append(img_arr)\n",
    "            # adding the index as the y target (0: normal, 1: cnv, 2: dme, 3: drusen)\n",
    "            y.append(i)\n",
    "        counter+=1\n",
    "        if counter > 400:\n",
    "            break\n",
    "\n",
    "# converting to a numpy array\n",
    "X_test = np.asarray(X)\n",
    "y_test = np.asarray(y)\n",
    "\n",
    "\n",
    "# split data into training and testing from the training directory \n",
    "# this design decision was made to minimize the amount of time needed to build a model\n",
    "from sklearn.model_selection import train_test_split\n",
    "X_train, X_test, y_train, y_test = train_test_split(X_test, y_test, test_size=0.2)"
   ]
  },
  {
   "cell_type": "code",
   "execution_count": 4,
   "id": "e9e250ca",
   "metadata": {},
   "outputs": [
    {
     "name": "stdout",
     "output_type": "stream",
     "text": [
      "x_train shape: (1283, 150, 150, 3)\n",
      "1283 train samples\n",
      "321 test samples\n"
     ]
    }
   ],
   "source": [
    "# Scale images to the [0, 1] range\n",
    "x_train = X_train.astype(\"float32\") / 255\n",
    "x_test = X_test.astype(\"float32\") / 255\n",
    "\n",
    "# Make sure images have shape (150, 150, 3)\n",
    "print(\"x_train shape:\", X_train.shape)\n",
    "print(x_train.shape[0], \"train samples\")\n",
    "print(x_test.shape[0], \"test samples\")\n",
    "\n",
    "# convert class vectors to a hot vector: 0, 0, 0, 1 (like a binary output)\n",
    "y_train = keras.utils.to_categorical(y_train, 4)\n",
    "y_test = keras.utils.to_categorical(y_test, 4)"
   ]
  },
  {
   "cell_type": "code",
   "execution_count": 28,
   "id": "ac27da23",
   "metadata": {},
   "outputs": [
    {
     "name": "stdout",
     "output_type": "stream",
     "text": [
      "Model: \"sequential_8\"\n",
      "_________________________________________________________________\n",
      "Layer (type)                 Output Shape              Param #   \n",
      "=================================================================\n",
      "conv2d_17 (Conv2D)           (None, 148, 148, 32)      896       \n",
      "_________________________________________________________________\n",
      "max_pooling2d_17 (MaxPooling (None, 74, 74, 32)        0         \n",
      "_________________________________________________________________\n",
      "conv2d_18 (Conv2D)           (None, 72, 72, 32)        9248      \n",
      "_________________________________________________________________\n",
      "max_pooling2d_18 (MaxPooling (None, 36, 36, 32)        0         \n",
      "_________________________________________________________________\n",
      "flatten_8 (Flatten)          (None, 41472)             0         \n",
      "_________________________________________________________________\n",
      "dropout_13 (Dropout)         (None, 41472)             0         \n",
      "_________________________________________________________________\n",
      "dense_8 (Dense)              (None, 4)                 165892    \n",
      "=================================================================\n",
      "Total params: 176,036\n",
      "Trainable params: 176,036\n",
      "Non-trainable params: 0\n",
      "_________________________________________________________________\n"
     ]
    }
   ],
   "source": [
    "# creating a sequential CNN using keras with maxpooling layers and dropout\n",
    "\n",
    "model = keras.Sequential(\n",
    "    [\n",
    "        keras.Input(shape=(150, 150, 3)),\n",
    "        layers.Conv2D(32, kernel_size=(3, 3), activation=\"relu\"),\n",
    "        layers.MaxPooling2D(pool_size=(2, 2)),\n",
    "        layers.Conv2D(32, kernel_size=(3, 3), activation=\"relu\"),\n",
    "        layers.MaxPooling2D(pool_size=(2, 2)),\n",
    "        layers.Flatten(),\n",
    "        layers.Dropout(0.5),\n",
    "        layers.Dense(4, activation=\"softmax\"),\n",
    "    ]\n",
    ")\n",
    "\n",
    "model.summary()"
   ]
  },
  {
   "cell_type": "code",
   "execution_count": null,
   "id": "32dab37e",
   "metadata": {},
   "outputs": [],
   "source": [
    "# adding a list of metrics for the fit method to show\n",
    "metrics_list = ['accuracy']\n",
    "# compiling model with an optimizer and loss function\n",
    "model.compile(loss = 'categorical_crossentropy', optimizer = 'adam', metrics = metrics_list)\n",
    "    # alternative: sparse_categorical_crossentropy\n",
    "\n",
    "# fitting model to training set and using the testing set for validation\n",
    "# TODO: change validation data to run on separate data\n",
    "training = model.fit(x_train, y_train, batch_size=100, epochs=10, verbose=1, validation_split=0.1)"
   ]
  },
  {
   "cell_type": "code",
   "execution_count": 16,
   "id": "43e4298c",
   "metadata": {},
   "outputs": [
    {
     "name": "stdout",
     "output_type": "stream",
     "text": [
      "321/321 [==============================] - 2s 5ms/sample - loss: 1.3518 - acc: 0.3925\n",
      "Test loss: 1.3517967265714366\n",
      "Test accuracy: 0.39252338\n"
     ]
    }
   ],
   "source": [
    "# evaluating the model on unseen testing data\n",
    "score = model.evaluate(x_test, y_test, verbose=1)\n",
    "# printing the loss and the accuracy of the model\n",
    "print(\"Test loss:\", score[0])\n",
    "print(\"Test accuracy:\", score[1])"
   ]
  },
  {
   "cell_type": "code",
   "execution_count": 17,
   "id": "f7a590f9",
   "metadata": {},
   "outputs": [
    {
     "data": {
      "image/png": "[encoded data removed]",
      "text/plain": [
       "<Figure size 432x288 with 1 Axes>"
      ]
     },
     "metadata": {
      "needs_background": "light"
     },
     "output_type": "display_data"
    }
   ],
   "source": [
    "# visualizing the confusion matrix of the model\n",
    "y_pred = model.predict(x_test)\n",
    "y_pred_c = np.argmax(y_pred, axis=1)\n",
    "y_test_c = np.argmax(y_test, axis=1)\n",
    "matrix_confusion = confusion_matrix(y_test_c, y_pred_c)\n",
    "\n",
    "sns.heatmap(matrix_confusion, square=True, annot=True, cmap='Blues', fmt='d', cbar=False )\n",
    "plt.show()"
   ]
  },
  {
   "cell_type": "code",
   "execution_count": 18,
   "id": "6da6f1bb",
   "metadata": {},
   "outputs": [
    {
     "data": {
      "image/png": "[encoded data removed]",
      "text/plain": [
       "<Figure size 432x288 with 1 Axes>"
      ]
     },
     "metadata": {
      "needs_background": "light"
     },
     "output_type": "display_data"
    }
   ],
   "source": [
    "# visualizing the model loss over 10 epochs\n",
    "x = list(range(10))\n",
    "vy = training.history['val_loss']\n",
    "ty = training.history['loss']\n",
    "\n",
    "plt.plot( x, vy )\n",
    "plt.plot( x, ty )\n",
    "plt.show()"
   ]
  }
 ],
 "metadata": {
  "kernelspec": {
   "display_name": "Python 3 (ipykernel)",
   "language": "python",
   "name": "python3"
  },
  "language_info": {
   "codemirror_mode": {
    "name": "ipython",
    "version": 3
   },
   "file_extension": ".py",
   "mimetype": "text/x-python",
   "name": "python",
   "nbconvert_exporter": "python",
   "pygments_lexer": "ipython3",
   "version": "3.7.12"
  }
 },
 "nbformat": 4,
 "nbformat_minor": 5
}
